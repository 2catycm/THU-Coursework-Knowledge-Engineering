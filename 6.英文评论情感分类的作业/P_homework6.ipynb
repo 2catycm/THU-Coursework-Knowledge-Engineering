{
 "cells": [
  {
   "cell_type": "markdown",
   "metadata": {},
   "source": [
    "# 知识工程-作业6 英文评论情感分类\n",
    "\n",
    "2024214500 叶璨铭\n"
   ]
  },
  {
   "cell_type": "markdown",
   "metadata": {},
   "source": [
    "## 代码与文档格式说明\n",
    "\n",
    "> 本文档使用Jupyter Notebook编写，所以同时包括了实验文档和实验代码。\n",
    "\n",
    "> 本次实验项目采用了类似于 Quarto + nbdev 的方法来同步Jupyter Notebook代码到python文件, 因而我们的实验文档导出为pdf和html格式可以进行阅读，而我们的代码也导出为python模块形式，可以作为代码库被其他项目使用。\n",
    "我们这样做的好处是，避免单独管理一堆 .py 文件，防止代码冗余和同步混乱，py文件和pdf文件都是从.ipynb文件导出的，可以保证实验文档和代码的一致性。\n",
    "\n",
    "> 本文档理论上支持多个格式，包括ipynb, html, docx, pdf, md 等，但是由于 quarto和nbdev 系统的一些bug，我们目前暂时只支持ipynb, docx, pdf文件，以后有空的时候解决bug可以构建一个[在线文档网站](https://thu-coursework-machine-learning-for-big-data-docs.vercel.app/)。您在阅读本文档时，可以选择您喜欢的格式来进行阅读，建议您使用 Visual Studio Code (或者其他支持jupyter notebook的IDE, 但是VSCode阅读体验最佳) 打开 `ipynb`格式的文档来进行阅读。\n",
    "\n",
    "\n",
    "> 为了记录我们自己修改了哪些地方，使用git进行版本控制，这样可以清晰地看出我们基于助教的代码在哪些位置进行了修改，有些修改是实现了要求的作业功能，而有些代码是对助教的代码进行了重构和优化。我将我在知识工程课程的代码，在作业截止DDL之后，开源到 https://github.com/2catycm/THU-Coursework-Knowledge-Engineering.git ，方便各位同学一起学习讨论。\n"
   ]
  },
  {
   "cell_type": "markdown",
   "metadata": {},
   "source": [
    "## 代码规范说明\n",
    "\n",
    "为了让代码清晰规范，在作业开始前，使用 `ruff format`格式化助教的代码; 在我们实现函数过程中，函数的docstring应当遵循fastai规范而不是numpy规范，这样简洁清晰，不会Repeat yourself。\n",
    "\n",
    "![alt text](image.png)\n",
    "\n",
    "\n",
    "同时注意到VSCode-Pylance插件的报错\n",
    "\n",
    "![alt text](image-1.png)\n",
    "\n",
    "我们需要安装 AllenNLP，打开 https://github.com/allenai/allennlp，可以发现 “This repository was archived by the owner on Dec 17, 2022. It is now read-only.” 也就是说 AllenNLP 不再更新，是个比较老旧的库。\n",
    "\n",
    "allennlp是\"An Apache 2.0 NLP research library, built on PyTorch, for developing state-of-the-art deep learning models on a wide variety of linguistic tasks.\", PyTorch写的NLP库，而Elmo则是其支持的一个算法。\n",
    "\n",
    "我们服务器空间有限，为了避免单独为了allennlp重新安装老旧的PyTorch占满磁盘空间，决定手动修改 requirements.txt\n",
    "\n",
    "```bash\n",
    "git submodule add https://github.com/allenai/allennlp.git\n",
    "cd allennlp\n",
    "vim requirements.txt\n",
    "conda activate yuequ\n",
    "pip install -e .\n",
    "```\n",
    "发现 git 版本其实优于 pypi 版本，实际上没有改 requirements.txt 就可以增量安装。\n"
   ]
  },
  {
   "cell_type": "markdown",
   "metadata": {},
   "source": [
    "## 原理回顾和课件复习\n",
    "\n"
   ]
  },
  {
   "cell_type": "markdown",
   "metadata": {},
   "source": [
    "课上详细介绍了情感分析/观点挖掘任务的一些基本特点和难点，然后详细介绍了RNN的发展历程，最后提及了一下大模型方法FinGPT。\n",
    "\n",
    "之前我们学的词向量不能解决一词多义，这次用Elmo可能会厉害一些。\n"
   ]
  },
  {
   "attachments": {
    "image.png": {
     "image/png": "[encoded data removed]"
    }
   },
   "cell_type": "markdown",
   "metadata": {},
   "source": [
    "## 数据准备\n",
    "\n",
    "由于download.sh 的清华网盘链接过期，使用师兄群里发的文件\n",
    "\n",
    "![image.png](attachment:image.png)\n",
    "\n",
    "由于 /home 空间不足，使用软链接\n",
    "\n",
    "```bash\n",
    "cd 6.英文评论情感分类的作业\n",
    "rm -rf data\n",
    "ln -s /data/ycm/assignments/data\n",
    "cd data\n",
    "mv 第六章数据文件.zip data.zip\n",
    "unzip data.zip\n",
    "mv 第六章数据文件/* ./\n",
    "rm -rf 第六章数据文件/\n",
    "rm -rf data.zip\n",
    "\n",
    "```"
   ]
  },
  {
   "cell_type": "markdown",
   "metadata": {},
   "source": [
    "## 数据加载\n",
    "\n",
    "\n",
    "\n",
    "我们看下 main.py 文件\n",
    "\n",
    "使用到数据的地方是\n",
    "\n",
    "```python\n",
    "from data_util import MyDataset, collate_fn\n",
    "...\n",
    "MyDataset(\n",
    "        \"./data/train.tsv\",\n",
    "        max_length=max_length,\n",
    "        train=True,\n",
    "        max_example_num=max_train_example,\n",
    "    ),\n",
    "collate_fn=functools.partial(collate_fn, device=device),\n",
    "```\n",
    "\n",
    "助教已经帮我们实现了 collate_fn 关键是我们要写 MyDataset \n",
    "\n",
    "首先注意到 MyDataset[i] 返回的是一个元组，包含文本和标签\n",
    "\n",
    "```python\n",
    "def __getitem__(self, item):\n",
    "    return self.text[item], self.label[item]\n",
    "```\n",
    "\n",
    "需要自己有list来存。现在可以写 load \n",
    "\n",
    "我们需要观察一下数据格式\n",
    "\n",
    "![alt text](image-2.png)\n",
    "\n",
    "train.tsv 和 dev.tsv 都是  “sentence label”，test.tsv 是 “index sentence”， 这次作业 main.py 只要求我们做 train 和 dev的,c传递的参数都是 train=True。\n",
    "\n",
    "注意 csv 是 \"comma separated values\" 的缩写，tsv 是 \"tab separated values\" 的缩写，csv文件的分隔符是逗号，而tsv文件的分隔符是制表符（tab），所以我们需要使用 `sep=\"\\t\"` 来读取数据。\n"
   ]
  },
  {
   "cell_type": "code",
   "execution_count": null,
   "id": "2bfe5e1c",
   "metadata": {},
   "outputs": [],
   "source": [
    "from typing import List, Tuple\n",
    "import torch\n",
    "def load(\n",
    "    self,\n",
    "    file: str,  # file path\n",
    "    train: bool = True,  # whether is training file\n",
    ") -> Tuple[List[List[str]], List[int]]:  # Returns (text, label), text input and label\n",
    "    \"\"\"\n",
    "    load file into texts and labels\n",
    "    \"\"\"\n",
    "    import pandas as pd\n",
    "    \n",
    "    # 使用pandas读取文件，自动推断分隔符\n",
    "    try:\n",
    "        # 首先尝试tab分隔符，因为这是期望的格式\n",
    "        df = pd.read_csv(file, sep='\\t')\n",
    "    except Exception as e:\n",
    "        print(f\"Error reading file with tab separator: {e}\")\n",
    "        print(\"Trying to read with auto-detected separator...\")\n",
    "        # 如果失败，让pandas尝试自动推断分隔符\n",
    "        df = pd.read_csv(file, sep=None, engine='python')\n",
    "\n",
    "    text = df['sentence'].astype(str).tolist()\n",
    "    # 分词\n",
    "    text = [sentence.split() for sentence in text]\n",
    "    \n",
    "    if train:\n",
    "        # 训练集格式: sentence  label\n",
    "        label = df['label'].astype(int).tolist()\n",
    "    else:\n",
    "        # 测试集可能没有标签，默认为 -1 表示不知道\n",
    "        label = [-1] * len(text)\n",
    "        \n",
    "    return text, label"
   ]
  },
  {
   "cell_type": "markdown",
   "id": "4727e7c0",
   "metadata": {},
   "source": [
    "注意助教对  Returns (text, label), text input and label 的类型标注有误。\n",
    "\n",
    "首先label应该是 List[int] 类型，参考官方文档 https://pytorch.org/docs/stable/generated/torch.nn.CrossEntropyLoss.html ，可以是float，但是不应该是str类型。\n",
    "\n",
    "其次text不应该是 List[str], 这里我们需要查看allennlp的 batch_to_ids 函数的约定 https://github.com/allenai/allennlp/blob/main/allennlp/modules/elmo.py ，可以看到其要求的输入是 List[List[str]], 也就是说需要对句子进行分词！\n",
    "\n",
    "\n",
    "![](image-3.png)\n",
    "\n",
    "我们差点就被原本的注释带偏啦，还好检查了allennlp的文档。\n",
    "\n",
    "\n",
    "分词并不难，因为这次作业是 “英文评论情感分类”，可以直接按照空白符分词，使用 `str.split()` 就可以了，不需要上次那样用结巴分词。\n",
    "\n",
    "当然，如果做得细致些，应该用 elmo 的 tokenier 去做分词，或者用nltk。 \n"
   ]
  },
  {
   "cell_type": "markdown",
   "id": "3daba44c",
   "metadata": {},
   "source": [
    "现在可以实现 pad 函数\n",
    "\n",
    "事实上，刚才我们看了源码知道，allennlp的elmo已经实现了padding，会根据句子和单词的最大长度来补齐，实际上我们不应该做任何操作！\n",
    "\n",
    "当然，助教给了我们一个 max_length 的参数，实际上是用来限制句子长度的，超过这个长度的句子会被截断, 如果比elmo从数据发现的最大长度还要长，那多补一些也无妨，我们还是能实现一个。\n",
    "\n",
    "不过最重要的问题是，pad token是什么？上一次作业是助教定义的词库，传入了pad和unknown的id，这次作业我们需要遵循allennlp的elmo的约定！\n",
    "\n",
    "这下我们不得不继续查看源码 https://github.com/allenai/allennlp/blob/main/allennlp/modules/elmo.py\n",
    "\n",
    "![](image-4.png)\n",
    "\n",
    "这下可以确认pad token是0，从而实现"
   ]
  },
  {
   "cell_type": "code",
   "execution_count": null,
   "id": "e44428b5",
   "metadata": {},
   "outputs": [],
   "source": [
    "def pad(self, \n",
    "        text_ids: torch.Tensor,  # size N*L*D\n",
    "        )-> torch.Tensor: # Returns padded_text_id, size N*max_length*D\n",
    "    \"\"\"\n",
    "    pad text_ids to max_length\n",
    "    \"\"\"\n",
    "    N, L, D = text_ids.shape\n",
    "    if L >= self.max_length:\n",
    "        # 如果文本长度大于等于最大长度，截断\n",
    "        return text_ids[:, :self.max_length, :]\n",
    "    else:\n",
    "        # 如果文本长度小于最大长度，填充\n",
    "        padding = torch.zeros(N, self.max_length - L, D, dtype=text_ids.dtype, device=text_ids.device)\n",
    "        padded_text_ids = torch.cat([text_ids, padding], dim=1)\n",
    "        return padded_text_ids"
   ]
  },
  {
   "cell_type": "markdown",
   "id": "118365f2",
   "metadata": {},
   "source": [
    "测试一下, 用 https://github.com/google-deepmind/treescope 看清楚数据是什么样的"
   ]
  },
  {
   "cell_type": "code",
   "execution_count": null,
   "id": "61a33c9a",
   "metadata": {},
   "outputs": [],
   "source": [
    "import treescope\n",
    "treescope.basic_interactive_setup(autovisualize_arrays=True)"
   ]
  },
  {
   "cell_type": "code",
   "execution_count": null,
   "id": "4ab11814",
   "metadata": {},
   "outputs": [],
   "source": [
    "dataset = MyDataset(\"./data/dev.tsv\")\n",
    "t, l = dataset[0]"
   ]
  },
  {
   "cell_type": "markdown",
   "id": "a7602eeb",
   "metadata": {},
   "source": [
    "## CNN 神经网络实现\n",
    "\n",
    "这次的TextCNN和第四次作业的基本一样，只是embedding换成了allennlp的elmo representation，然后分类数量换成了2，其他的都一样。\n",
    "\n",
    "上次我写得代码已经比较优雅高效，更多关于这段代码的理解和实现逻辑参阅 上次作业报告 https://github.com/2catycm/THU-Coursework-Knowledge-Engineering/blob/master/4.%E6%96%B0%E9%97%BB%E6%96%87%E6%9C%AC%E5%88%86%E7%B1%BB%E7%9A%84%E4%BD%9C%E4%B8%9A/P_homework4.ipynb \n",
    "\n",
    "这次我们增加一个dropout"
   ]
  },
  {
   "cell_type": "code",
   "execution_count": null,
   "id": "9f52e856",
   "metadata": {},
   "outputs": [],
   "source": [
    "class TextCNN(nn.Module):\n",
    "    def __init__(\n",
    "        self,\n",
    "        options_file:str, # elmo file\n",
    "        weight_file:str, # elmo weight file\n",
    "        vector_size:int, # word embedding dim\n",
    "        filter_size:List[int]=[2, 3, 4, 5], # kernel size for each layer of CNN\n",
    "        channels:int=64, # output channel for CNN\n",
    "        max_length:int =1024, # max length of input sentence\n",
    "        dropout = 0.5, # dropout rate\n",
    "    ):\n",
    "        super(TextCNN, self).__init__()\n",
    "        self.embedding = Elmo(options_file, weight_file, 1, dropout=0)\n",
    "        ####################\n",
    "        # 初始化嵌入层已经通过Elmo完成\n",
    "        # 直接用上次作业的代码\n",
    "        # Build a stack of 1D CNN layers for each filter size\n",
    "        self.convs = nn.ModuleList(\n",
    "            [\n",
    "                nn.Conv1d(in_channels=vector_size, \n",
    "                          out_channels=channels, \n",
    "                          kernel_size=k)\n",
    "                # Conv1dViaConv2d(\n",
    "                #     in_channels=vector_size,\n",
    "                #     out_channels=channels,\n",
    "                #     kernel_size=k,\n",
    "                #     conv_2d=KAN_Convolutional_Layer,\n",
    "                # )\n",
    "                for k in filter_size\n",
    "            ]\n",
    "        )\n",
    "        # Final linear layer for label prediction; number of classes equals len(label2index)\n",
    "        # CNN的输出通道数 × 不同卷积核的数量\n",
    "        self.linear = nn.Linear(channels * len(filter_size), 2) # 二分类问题（正面/负面）\n",
    "        #  Dropout层，防止过拟合\n",
    "        self.dropout = nn.Dropout(dropout)\n",
    "        self.max_length = max_length\n",
    "    def forward(self, \n",
    "        inputs:torch.Tensor, # input sentence, size N*L\n",
    "        ) -> torch.Tensor: # predicted_logits: torch.tensor of size N*C (number of classes)\n",
    "        # 获取ELMo嵌入表示\n",
    "        inputs = self.embedding(inputs)[\"elmo_representations\"][0]  # [N, L, vector_size]\n",
    "        \n",
    "        # Convolutional layer\n",
    "        x = inputs.transpose(1, 2)  # 卷积需要将词向量维度放在最后 (N*D*L)\n",
    "        x = [conv(x) for conv in self.convs]\n",
    "        x = [nn.functional.gelu(i) for i in x]  # 每一个 i是 (N*C*Li) ， Li = L - ki + 1\n",
    "        # Pooling layer\n",
    "        x = [\n",
    "            nn.functional.max_pool1d(\n",
    "                i,\n",
    "                kernel_size=i.size(2),  # 对 Li 去做 max_pooling\n",
    "            ).squeeze(2)\n",
    "            for i in x  # 每一个 i是 (N*C*Li)\n",
    "        ]  # 每一个 item 变为 (N*C)\n",
    "        # Concatenate all pooling results\n",
    "        x = torch.cat(x, dim=1)  # 把每一个 item 拼接起来，变为 (N, C*len(filter_size))\n",
    "        # 应用dropout\n",
    "        x = self.dropout(x)\n",
    "        # Linear layer\n",
    "        x = self.linear(x)  # 分类，得到 (N*K)\n",
    "        return x\n"
   ]
  },
  {
   "cell_type": "markdown",
   "id": "387a20f1",
   "metadata": {},
   "source": [
    "其中我们还用了 Conv2d兼容层，来尝试实现 KAN Conv，但是并没有成功，这次老师讲解的重点是RNN，所以今天我们不过多探索Kolmogorov–Arnold Networks。"
   ]
  },
  {
   "cell_type": "markdown",
   "id": "5efc0eef",
   "metadata": {},
   "source": [
    "## RNN 神经网络实现\n",
    "\n",
    "### LSTM 实现\n",
    "\n"
   ]
  },
  {
   "cell_type": "markdown",
   "id": "d8e21590",
   "metadata": {},
   "source": [
    "### RWKV 实现"
   ]
  },
  {
   "cell_type": "markdown",
   "id": "77fa0390",
   "metadata": {},
   "source": [
    "## 运行效果"
   ]
  },
  {
   "cell_type": "markdown",
   "id": "516992bd",
   "metadata": {},
   "source": [
    "首先我们直接运行一下CNN，为了让速度快一些，我改了batch size为16\\*64，learning rate也\\*16。\n",
    "\n",
    "```bash\n",
    "CUDA_VISIBLE_DEVICES=1 python main.py\n",
    "```\n",
    "\n",
    "![](image-5.png)\n",
    "\n",
    "可以看到效果一般，只到80。\n",
    "\n",
    "我们把batch size换回 64 再跑一次\n",
    "\n",
    "\n",
    "在跑之前，我们修改一下 main.py 代码，第一，老规矩啦，要支持argparse；第二这一次助教用了tqdm，但是中间完全没有反馈，根本看不到网络训练地好不好，不知道刚才80的问题在哪，所以我们加上loss和acc的反馈\n",
    "\n",
    "```python\n",
    "out_bar = tqdm(range(total_epoch))\n",
    "for epoch in out_bar: \n",
    "    ...\n",
    "    bar = tqdm(train_loader)\n",
    "    for text, label in bar:\n",
    "        ...\n",
    "        bar.set_description(f\"Loss: {loss.item():.4f}\")\n",
    "    ...\n",
    "    out_bar.set_description(f\"Epoch: {epoch} Max Accuracy: {max_acc:.4f}\")\n",
    "```\n",
    "\n",
    "好现在跑\n",
    "\n",
    "![](image-6.png)\n",
    "\n",
    "可以看到达到了 85，勉强复现了助教说的 86， 那么问题有可能是dropout=0.5 太大。\n",
    "\n",
    "现在关闭dropout，看看效果\n",
    "\n",
    "```bash\n",
    "CUDA_VISIBLE_DEVICES=1 python main.py --model cnn --batch_size 64 --dropout 0\n",
    "```"
   ]
  },
  {
   "cell_type": "markdown",
   "id": "c48d9df0",
   "metadata": {},
   "source": []
  }
 ],
 "metadata": {
  "language_info": {
   "name": "python"
  }
 },
 "nbformat": 4,
 "nbformat_minor": 5
}
