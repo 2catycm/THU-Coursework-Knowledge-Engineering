{
 "cells": [
  {
   "cell_type": "markdown",
   "metadata": {},
   "source": [
    "# 知识工程-作业4 文本分类\n",
    "\n",
    "2024214500 叶璨铭\n"
   ]
  },
  {
   "cell_type": "markdown",
   "metadata": {},
   "source": [
    "## 代码与文档格式说明\n",
    "\n",
    "> 本文档使用Jupyter Notebook编写，所以同时包括了实验文档和实验代码。\n",
    "\n",
    "> 本次实验项目采用了类似于 Quarto + nbdev 的方法来同步Jupyter Notebook代码到python文件, 因而我们的实验文档导出为pdf和html格式可以进行阅读，而我们的代码也导出为python模块形式，可以作为代码库被其他项目使用。\n",
    "我们这样做的好处是，避免单独管理一堆 .py 文件，防止代码冗余和同步混乱，py文件和pdf文件都是从.ipynb文件导出的，可以保证实验文档和代码的一致性。\n",
    "\n",
    "> 本文档理论上支持多个格式，包括ipynb, html, docx, pdf, md 等，但是由于 quarto和nbdev 系统的一些bug，我们目前暂时只支持ipynb文件，以后有空的时候解决bug可以构建一个[在线文档网站](https://thu-coursework-machine-learning-for-big-data-docs.vercel.app/)。您在阅读本文档时，可以选择您喜欢的格式来进行阅读，建议您使用 Visual Studio Code (或者其他支持jupyter notebook的IDE, 但是VSCode阅读体验最佳) 打开 `ipynb`格式的文档来进行阅读。\n",
    "\n",
    "\n",
    "> 为了记录我们自己修改了哪些地方，使用git进行版本控制，这样可以清晰地看出我们基于助教的代码在哪些位置进行了修改，有些修改是实现了要求的作业功能，而有些代码是对助教的代码进行了重构和优化。我将我在知识工程课程的代码，在作业截止DDL之后，开源到 https://github.com/2catycm/THU-Coursework-Knowledge-Engineering.git ，方便各位同学一起学习讨论。\n"
   ]
  },
  {
   "cell_type": "markdown",
   "metadata": {},
   "source": [
    "## 数据准备与检查\n",
    "\n",
    "```bash\n",
    "cd data/raw\n",
    "sh download.sh\n",
    "```\n",
    "\n",
    "但是老师给的链接过期了，\n",
    "\n",
    "\n",
    "![alt text](97966902aa1bdf6a05a0d483a2583da.png)\n",
    "\n",
    "![alt text](9df9b383b00f3511cd9c0f98cdbe9c2.png)\n"
   ]
  },
  {
   "cell_type": "markdown",
   "metadata": {},
   "source": [
    "> 本次实验使用数据集来自清华大学2016年构建的新闻文本分类数据集\n",
    "THUCNews，共包含14个类别的74万篇新闻文档，可以在\n",
    "http://thuctc.thunlp.org/message 获取，均为UTF-8纯文本格式\n",
    "\n",
    "根据说明，我们进入thunlp的链接，填写研究者信息之后，可以看到下载链接\n",
    "\n",
    "![alt text](image.png)"
   ]
  },
  {
   "cell_type": "markdown",
   "metadata": {},
   "source": []
  },
  {
   "cell_type": "markdown",
   "metadata": {},
   "source": [
    "## 基于gensim工具包训练带有负采样的 skip-gram \n",
    "\n",
    "在本节中，我们将使用gensim工具包来训练一个带有负采样的skip-gram模型。Skip-gram模型是一种用于词向量训练的模型，通过预测给定词语的上下文词语来学习词向量。负采样是一种加速训练过程的方法，通过减少计算量来提高训练效率。\n",
    "\n",
    "操作计划如下：\n",
    "\n",
    "1. 安装并导入gensim工具包。\n",
    "2. 加载并预处理数据集。\n",
    "3. 使用gensim的Word2Vec类来训练skip-gram模型，并启用负采样。\n",
    "4. 评估模型效果，并可视化词向量。基于gensim工具包训练带有负采样的 skip-gram \n",
    "\n",
    "```python\n",
    "# 安装gensim工具包\n",
    "!pip install gensim\n",
    "\n",
    "# 导入gensim工具包\n",
    "import gensim\n",
    "from gensim.models import Word2Vec\n",
    "```"
   ]
  },
  {
   "cell_type": "code",
   "execution_count": null,
   "metadata": {},
   "outputs": [],
   "source": [
    "# 安装gensim工具包\n",
    "!pip install gensim"
   ]
  }
 ],
 "metadata": {
  "kernelspec": {
   "display_name": "base",
   "language": "python",
   "name": "python3"
  },
  "language_info": {
   "codemirror_mode": {
    "name": "ipython",
    "version": 3
   },
   "file_extension": ".py",
   "mimetype": "text/x-python",
   "name": "python",
   "nbconvert_exporter": "python",
   "pygments_lexer": "ipython3",
   "version": "3.11.11"
  }
 },
 "nbformat": 4,
 "nbformat_minor": 4
}
