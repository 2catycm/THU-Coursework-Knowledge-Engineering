{
 "cells": [
  {
   "cell_type": "markdown",
   "metadata": {},
   "source": [
    "# 知识工程-作业5 潜在语义索引构建\n",
    "\n",
    "2024214500 叶璨铭\n"
   ]
  },
  {
   "cell_type": "markdown",
   "metadata": {},
   "source": [
    "## 代码与文档格式说明\n",
    "\n",
    "> 本文档使用Jupyter Notebook编写，所以同时包括了实验文档和实验代码。\n",
    "\n",
    "> 本次实验项目采用了类似于 Quarto + nbdev 的方法来同步Jupyter Notebook代码到python文件, 因而我们的实验文档导出为pdf和html格式可以进行阅读，而我们的代码也导出为python模块形式，可以作为代码库被其他项目使用。\n",
    "我们这样做的好处是，避免单独管理一堆 .py 文件，防止代码冗余和同步混乱，py文件和pdf文件都是从.ipynb文件导出的，可以保证实验文档和代码的一致性。\n",
    "\n",
    "> 本文档理论上支持多个格式，包括ipynb, html, docx, pdf, md 等，但是由于 quarto和nbdev 系统的一些bug，我们目前暂时只支持ipynb文件，以后有空的时候解决bug可以构建一个[在线文档网站](https://thu-coursework-machine-learning-for-big-data-docs.vercel.app/)。您在阅读本文档时，可以选择您喜欢的格式来进行阅读，建议您使用 Visual Studio Code (或者其他支持jupyter notebook的IDE, 但是VSCode阅读体验最佳) 打开 `ipynb`格式的文档来进行阅读。\n",
    "\n",
    "\n",
    "> 为了记录我们自己修改了哪些地方，使用git进行版本控制，这样可以清晰地看出我们基于助教的代码在哪些位置进行了修改，有些修改是实现了要求的作业功能，而有些代码是对助教的代码进行了重构和优化。我将我在知识工程课程的代码，在作业截止DDL之后，开源到 https://github.com/2catycm/THU-Coursework-Knowledge-Engineering.git ，方便各位同学一起学习讨论。\n"
   ]
  },
  {
   "cell_type": "markdown",
   "metadata": {},
   "source": [
    "## 代码规范说明\n",
    "\n",
    "为了让代码清晰规范，在作业开始前，使用 `ruff format`格式化助教的代码; 在我们实现函数过程中，函数的docstring应当遵循fastai规范而不是numpy规范，这样简洁清晰，不会Repeat yourself。\n",
    "\n",
    "```bash\n",
    "❯ ruff format\n",
    "error: Failed to parse util.py:5:34: Multiple return types must be parenthesized\n",
    "2 files reformatted\n",
    "```\n",
    "\n",
    "原来，老师给的`util.py:5:34`代码这里类型标注不规范，稍作修改即可\n",
    "```python\n",
    "-def load_words(filepath: str) -> List[str], List[List[str]]:\n",
    "+def load_words(filepath: str) -> Tuple[List[str], List[List[str]]]:\n",
    "```\n",
    "\n",
    "此外，原本代码的类型不严谨，语义不规范，导致VSCode报了很多错，我们先重构一下助教的代码，增加合适的注释和类型提示。\n",
    "\n",
    "清晰的类型注解也是能够帮助我们更好的理解代码的，提高我们对作业的理解，所以不惜花一点时间。\n",
    "\n",
    "\n",
    "比如 import * 不是很规范。\n",
    "\n",
    "![alt text](image.png)\n",
    "\n",
    "我们简单修复一下即可\n",
    "\n",
    "```python\n",
    "-from typing import *\n",
    "+from typing import Tuple, List\n",
    "```\n",
    "\n",
    "原本的代码多次错误地使用了 `np.array` 来标注类型，这是不对的，应该使用 `np.ndarray` 来标注类型。比如这个地方\n",
    "\n",
    "```python\n",
    "-def cal_tfidf_matrix(term_doc: np.array, documents: List[List[str]], terms: List[str]):\n",
    "+def cal_tfidf_matrix(term_doc: np.ndarray, documents: List[List[str]], terms: List[str]):\n",
    "```\n",
    "\n",
    "此外这个地方应该用多了, 实际上我们这次作业不需要这个标准库，而且python3.12不建议用。\n",
    "```python\n",
    "-import imp\n",
    "```\n",
    "\n",
    "```bash\n",
    "/home/ye_canming/repos/assignments/THU-Coursework-Knowledge-Engineering/5.潜在语义索引构建的作业/main.py:1: DeprecationWarning: the imp module is deprecated in favour of importlib and slated for removal in Python 3.12; see the module's documentation for alternative uses\n",
    "```\n",
    "\n",
    "\n",
    "这下我们修改完，pylance不再报错了，可以安心写主要逻辑了。\n"
   ]
  },
  {
   "cell_type": "markdown",
   "metadata": {},
   "source": [
    "## 原理回顾和课件复习\n",
    "\n"
   ]
  },
  {
   "cell_type": "markdown",
   "metadata": {},
   "source": []
  },
  {
   "cell_type": "markdown",
   "metadata": {},
   "source": [
    "## 数据加载\n",
    "\n",
    "\n",
    "\n",
    "我们看下 main.py 文件\n",
    "\n",
    "使用到数据的地方是\n",
    "\n",
    "```python\n",
    "terms_tmp, documents_tmp = load_words(os.path.join(filePath, file))\n",
    "\n",
    "```"
   ]
  }
 ],
 "metadata": {
  "kernelspec": {
   "display_name": "yuequ",
   "language": "python",
   "name": "python3"
  },
  "language_info": {
   "codemirror_mode": {
    "name": "ipython",
    "version": 3
   },
   "file_extension": ".py",
   "mimetype": "text/x-python",
   "name": "python",
   "nbconvert_exporter": "python",
   "pygments_lexer": "ipython3",
   "version": "3.10.9"
  }
 },
 "nbformat": 4,
 "nbformat_minor": 4
}
